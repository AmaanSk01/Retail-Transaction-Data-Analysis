{
 "cells": [
  {
   "cell_type": "code",
   "execution_count": null,
   "id": "32999491-fe48-4f02-836c-1c3146226ff4",
   "metadata": {},
   "outputs": [],
   "source": [
    "#Importing necessary library"
   ]
  },
  {
   "cell_type": "code",
   "execution_count": 2,
   "id": "e8588c5a-5837-4941-8cad-0d932b55ca58",
   "metadata": {},
   "outputs": [],
   "source": [
    "import pandas as pd"
   ]
  },
  {
   "cell_type": "code",
   "execution_count": 3,
   "id": "ae6242b9-012c-4dd5-a785-0849ab96549c",
   "metadata": {},
   "outputs": [],
   "source": [
    "import ast # For safely parsing strings as lists"
   ]
  },
  {
   "cell_type": "code",
   "execution_count": 4,
   "id": "88aa48a2-59f6-47dc-b3a6-3233ff417e3d",
   "metadata": {},
   "outputs": [],
   "source": [
    "#Read csv file"
   ]
  },
  {
   "cell_type": "code",
   "execution_count": 5,
   "id": "c652cce1-6822-4584-8825-fb0eb4ebf769",
   "metadata": {},
   "outputs": [],
   "source": [
    "retail_data = pd.read_csv(\"Retail_Transactions_Dataset.csv\")"
   ]
  },
  {
   "cell_type": "code",
   "execution_count": 4,
   "id": "e33deff8-c455-4c1b-a91e-9cb833999a88",
   "metadata": {},
   "outputs": [
    {
     "data": {
      "text/html": [
       "<div>\n",
       "<style scoped>\n",
       "    .dataframe tbody tr th:only-of-type {\n",
       "        vertical-align: middle;\n",
       "    }\n",
       "\n",
       "    .dataframe tbody tr th {\n",
       "        vertical-align: top;\n",
       "    }\n",
       "\n",
       "    .dataframe thead th {\n",
       "        text-align: right;\n",
       "    }\n",
       "</style>\n",
       "<table border=\"1\" class=\"dataframe\">\n",
       "  <thead>\n",
       "    <tr style=\"text-align: right;\">\n",
       "      <th></th>\n",
       "      <th>Transaction_ID</th>\n",
       "      <th>Date</th>\n",
       "      <th>Customer_Name</th>\n",
       "      <th>Product</th>\n",
       "      <th>Total_Items</th>\n",
       "      <th>Total_Cost</th>\n",
       "      <th>Payment_Method</th>\n",
       "      <th>City</th>\n",
       "      <th>Store_Type</th>\n",
       "      <th>Discount_Applied</th>\n",
       "      <th>Customer_Category</th>\n",
       "      <th>Season</th>\n",
       "      <th>Promotion</th>\n",
       "    </tr>\n",
       "  </thead>\n",
       "  <tbody>\n",
       "    <tr>\n",
       "      <th>0</th>\n",
       "      <td>1000000000</td>\n",
       "      <td>21-01-2022 06:27</td>\n",
       "      <td>Stacey Price</td>\n",
       "      <td>['Ketchup', 'Shaving Cream', 'Light Bulbs']</td>\n",
       "      <td>3</td>\n",
       "      <td>71.65</td>\n",
       "      <td>Mobile Payment</td>\n",
       "      <td>Los Angeles</td>\n",
       "      <td>Warehouse Club</td>\n",
       "      <td>True</td>\n",
       "      <td>Homemaker</td>\n",
       "      <td>Winter</td>\n",
       "      <td>NaN</td>\n",
       "    </tr>\n",
       "    <tr>\n",
       "      <th>1</th>\n",
       "      <td>1000000001</td>\n",
       "      <td>01-03-2023 13:01</td>\n",
       "      <td>Michelle Carlson</td>\n",
       "      <td>['Ice Cream', 'Milk', 'Olive Oil', 'Bread', 'P...</td>\n",
       "      <td>2</td>\n",
       "      <td>25.93</td>\n",
       "      <td>Cash</td>\n",
       "      <td>San Francisco</td>\n",
       "      <td>Specialty Store</td>\n",
       "      <td>True</td>\n",
       "      <td>Professional</td>\n",
       "      <td>Fall</td>\n",
       "      <td>BOGO (Buy One Get One)</td>\n",
       "    </tr>\n",
       "    <tr>\n",
       "      <th>2</th>\n",
       "      <td>1000000002</td>\n",
       "      <td>21-03-2024 15:37</td>\n",
       "      <td>Lisa Graves</td>\n",
       "      <td>['Spinach']</td>\n",
       "      <td>6</td>\n",
       "      <td>41.49</td>\n",
       "      <td>Credit Card</td>\n",
       "      <td>Houston</td>\n",
       "      <td>Department Store</td>\n",
       "      <td>True</td>\n",
       "      <td>Professional</td>\n",
       "      <td>Winter</td>\n",
       "      <td>NaN</td>\n",
       "    </tr>\n",
       "    <tr>\n",
       "      <th>3</th>\n",
       "      <td>1000000003</td>\n",
       "      <td>31-10-2020 09:59</td>\n",
       "      <td>Mrs. Patricia May</td>\n",
       "      <td>['Tissues', 'Mustard']</td>\n",
       "      <td>1</td>\n",
       "      <td>39.34</td>\n",
       "      <td>Mobile Payment</td>\n",
       "      <td>Chicago</td>\n",
       "      <td>Pharmacy</td>\n",
       "      <td>True</td>\n",
       "      <td>Homemaker</td>\n",
       "      <td>Spring</td>\n",
       "      <td>NaN</td>\n",
       "    </tr>\n",
       "    <tr>\n",
       "      <th>4</th>\n",
       "      <td>1000000004</td>\n",
       "      <td>10-12-2020 00:59</td>\n",
       "      <td>Susan Mitchell</td>\n",
       "      <td>['Dish Soap']</td>\n",
       "      <td>10</td>\n",
       "      <td>16.42</td>\n",
       "      <td>Debit Card</td>\n",
       "      <td>Houston</td>\n",
       "      <td>Specialty Store</td>\n",
       "      <td>False</td>\n",
       "      <td>Young Adult</td>\n",
       "      <td>Winter</td>\n",
       "      <td>Discount on Selected Items</td>\n",
       "    </tr>\n",
       "  </tbody>\n",
       "</table>\n",
       "</div>"
      ],
      "text/plain": [
       "   Transaction_ID              Date      Customer_Name  \\\n",
       "0      1000000000  21-01-2022 06:27       Stacey Price   \n",
       "1      1000000001  01-03-2023 13:01   Michelle Carlson   \n",
       "2      1000000002  21-03-2024 15:37        Lisa Graves   \n",
       "3      1000000003  31-10-2020 09:59  Mrs. Patricia May   \n",
       "4      1000000004  10-12-2020 00:59     Susan Mitchell   \n",
       "\n",
       "                                             Product  Total_Items  Total_Cost  \\\n",
       "0        ['Ketchup', 'Shaving Cream', 'Light Bulbs']            3       71.65   \n",
       "1  ['Ice Cream', 'Milk', 'Olive Oil', 'Bread', 'P...            2       25.93   \n",
       "2                                        ['Spinach']            6       41.49   \n",
       "3                             ['Tissues', 'Mustard']            1       39.34   \n",
       "4                                      ['Dish Soap']           10       16.42   \n",
       "\n",
       "   Payment_Method           City        Store_Type  Discount_Applied  \\\n",
       "0  Mobile Payment    Los Angeles    Warehouse Club              True   \n",
       "1            Cash  San Francisco   Specialty Store              True   \n",
       "2     Credit Card        Houston  Department Store              True   \n",
       "3  Mobile Payment        Chicago          Pharmacy              True   \n",
       "4      Debit Card        Houston   Specialty Store             False   \n",
       "\n",
       "  Customer_Category  Season                   Promotion  \n",
       "0         Homemaker  Winter                         NaN  \n",
       "1      Professional    Fall      BOGO (Buy One Get One)  \n",
       "2      Professional  Winter                         NaN  \n",
       "3         Homemaker  Spring                         NaN  \n",
       "4       Young Adult  Winter  Discount on Selected Items  "
      ]
     },
     "execution_count": 4,
     "metadata": {},
     "output_type": "execute_result"
    }
   ],
   "source": [
    "retail_data.head()"
   ]
  },
  {
   "cell_type": "code",
   "execution_count": null,
   "id": "0fd1b2d7-a2c8-4bf3-b34f-a1e13edb6cde",
   "metadata": {},
   "outputs": [],
   "source": [
    "# Convert 'Date' column to datetime"
   ]
  },
  {
   "cell_type": "code",
   "execution_count": 5,
   "id": "5dab708b-5576-4b9e-8f77-62b36a98c502",
   "metadata": {},
   "outputs": [],
   "source": [
    "retail_data['Date'] = pd.to_datetime(retail_data['Date'], format='%d-%m-%Y %H:%M')"
   ]
  },
  {
   "cell_type": "code",
   "execution_count": 6,
   "id": "41a7f8be-a6b2-4983-8036-72928f15c817",
   "metadata": {},
   "outputs": [
    {
     "data": {
      "text/html": [
       "<div>\n",
       "<style scoped>\n",
       "    .dataframe tbody tr th:only-of-type {\n",
       "        vertical-align: middle;\n",
       "    }\n",
       "\n",
       "    .dataframe tbody tr th {\n",
       "        vertical-align: top;\n",
       "    }\n",
       "\n",
       "    .dataframe thead th {\n",
       "        text-align: right;\n",
       "    }\n",
       "</style>\n",
       "<table border=\"1\" class=\"dataframe\">\n",
       "  <thead>\n",
       "    <tr style=\"text-align: right;\">\n",
       "      <th></th>\n",
       "      <th>Transaction_ID</th>\n",
       "      <th>Date</th>\n",
       "      <th>Customer_Name</th>\n",
       "      <th>Product</th>\n",
       "      <th>Total_Items</th>\n",
       "      <th>Total_Cost</th>\n",
       "      <th>Payment_Method</th>\n",
       "      <th>City</th>\n",
       "      <th>Store_Type</th>\n",
       "      <th>Discount_Applied</th>\n",
       "      <th>Customer_Category</th>\n",
       "      <th>Season</th>\n",
       "      <th>Promotion</th>\n",
       "    </tr>\n",
       "  </thead>\n",
       "  <tbody>\n",
       "    <tr>\n",
       "      <th>0</th>\n",
       "      <td>1000000000</td>\n",
       "      <td>21-01-2022 06:27</td>\n",
       "      <td>Stacey Price</td>\n",
       "      <td>['Ketchup', 'Shaving Cream', 'Light Bulbs']</td>\n",
       "      <td>3</td>\n",
       "      <td>71.65</td>\n",
       "      <td>Mobile Payment</td>\n",
       "      <td>Los Angeles</td>\n",
       "      <td>Warehouse Club</td>\n",
       "      <td>True</td>\n",
       "      <td>Homemaker</td>\n",
       "      <td>Winter</td>\n",
       "      <td>NaN</td>\n",
       "    </tr>\n",
       "    <tr>\n",
       "      <th>1</th>\n",
       "      <td>1000000001</td>\n",
       "      <td>01-03-2023 13:01</td>\n",
       "      <td>Michelle Carlson</td>\n",
       "      <td>['Ice Cream', 'Milk', 'Olive Oil', 'Bread', 'P...</td>\n",
       "      <td>2</td>\n",
       "      <td>25.93</td>\n",
       "      <td>Cash</td>\n",
       "      <td>San Francisco</td>\n",
       "      <td>Specialty Store</td>\n",
       "      <td>True</td>\n",
       "      <td>Professional</td>\n",
       "      <td>Fall</td>\n",
       "      <td>BOGO (Buy One Get One)</td>\n",
       "    </tr>\n",
       "    <tr>\n",
       "      <th>2</th>\n",
       "      <td>1000000002</td>\n",
       "      <td>21-03-2024 15:37</td>\n",
       "      <td>Lisa Graves</td>\n",
       "      <td>['Spinach']</td>\n",
       "      <td>6</td>\n",
       "      <td>41.49</td>\n",
       "      <td>Credit Card</td>\n",
       "      <td>Houston</td>\n",
       "      <td>Department Store</td>\n",
       "      <td>True</td>\n",
       "      <td>Professional</td>\n",
       "      <td>Winter</td>\n",
       "      <td>NaN</td>\n",
       "    </tr>\n",
       "    <tr>\n",
       "      <th>3</th>\n",
       "      <td>1000000003</td>\n",
       "      <td>31-10-2020 09:59</td>\n",
       "      <td>Mrs. Patricia May</td>\n",
       "      <td>['Tissues', 'Mustard']</td>\n",
       "      <td>1</td>\n",
       "      <td>39.34</td>\n",
       "      <td>Mobile Payment</td>\n",
       "      <td>Chicago</td>\n",
       "      <td>Pharmacy</td>\n",
       "      <td>True</td>\n",
       "      <td>Homemaker</td>\n",
       "      <td>Spring</td>\n",
       "      <td>NaN</td>\n",
       "    </tr>\n",
       "    <tr>\n",
       "      <th>4</th>\n",
       "      <td>1000000004</td>\n",
       "      <td>10-12-2020 00:59</td>\n",
       "      <td>Susan Mitchell</td>\n",
       "      <td>['Dish Soap']</td>\n",
       "      <td>10</td>\n",
       "      <td>16.42</td>\n",
       "      <td>Debit Card</td>\n",
       "      <td>Houston</td>\n",
       "      <td>Specialty Store</td>\n",
       "      <td>False</td>\n",
       "      <td>Young Adult</td>\n",
       "      <td>Winter</td>\n",
       "      <td>Discount on Selected Items</td>\n",
       "    </tr>\n",
       "  </tbody>\n",
       "</table>\n",
       "</div>"
      ],
      "text/plain": [
       "   Transaction_ID              Date      Customer_Name  \\\n",
       "0      1000000000  21-01-2022 06:27       Stacey Price   \n",
       "1      1000000001  01-03-2023 13:01   Michelle Carlson   \n",
       "2      1000000002  21-03-2024 15:37        Lisa Graves   \n",
       "3      1000000003  31-10-2020 09:59  Mrs. Patricia May   \n",
       "4      1000000004  10-12-2020 00:59     Susan Mitchell   \n",
       "\n",
       "                                             Product  Total_Items  Total_Cost  \\\n",
       "0        ['Ketchup', 'Shaving Cream', 'Light Bulbs']            3       71.65   \n",
       "1  ['Ice Cream', 'Milk', 'Olive Oil', 'Bread', 'P...            2       25.93   \n",
       "2                                        ['Spinach']            6       41.49   \n",
       "3                             ['Tissues', 'Mustard']            1       39.34   \n",
       "4                                      ['Dish Soap']           10       16.42   \n",
       "\n",
       "   Payment_Method           City        Store_Type  Discount_Applied  \\\n",
       "0  Mobile Payment    Los Angeles    Warehouse Club              True   \n",
       "1            Cash  San Francisco   Specialty Store              True   \n",
       "2     Credit Card        Houston  Department Store              True   \n",
       "3  Mobile Payment        Chicago          Pharmacy              True   \n",
       "4      Debit Card        Houston   Specialty Store             False   \n",
       "\n",
       "  Customer_Category  Season                   Promotion  \n",
       "0         Homemaker  Winter                         NaN  \n",
       "1      Professional    Fall      BOGO (Buy One Get One)  \n",
       "2      Professional  Winter                         NaN  \n",
       "3         Homemaker  Spring                         NaN  \n",
       "4       Young Adult  Winter  Discount on Selected Items  "
      ]
     },
     "execution_count": 6,
     "metadata": {},
     "output_type": "execute_result"
    }
   ],
   "source": [
    "retail_data.head()"
   ]
  },
  {
   "cell_type": "code",
   "execution_count": null,
   "id": "d4f69c1e-5353-494e-bcda-2ec597eb5f3b",
   "metadata": {},
   "outputs": [],
   "source": [
    "# Parse the 'Product' column (convert string representation of lists to actual lists)"
   ]
  },
  {
   "cell_type": "code",
   "execution_count": 7,
   "id": "0e687365-4026-4d5b-9076-d67d63f54313",
   "metadata": {},
   "outputs": [],
   "source": [
    "retail_data['Product'] = retail_data['Product'].apply(ast.literal_eval)"
   ]
  },
  {
   "cell_type": "code",
   "execution_count": null,
   "id": "8a806609-e0a9-4c93-ad62-a0e1c7983b71",
   "metadata": {},
   "outputs": [],
   "source": [
    "# Check if the preprocessing is successful"
   ]
  },
  {
   "cell_type": "code",
   "execution_count": 8,
   "id": "b145bb91-fc7a-4473-a916-60d2e4077400",
   "metadata": {},
   "outputs": [
    {
     "data": {
      "text/html": [
       "<div>\n",
       "<style scoped>\n",
       "    .dataframe tbody tr th:only-of-type {\n",
       "        vertical-align: middle;\n",
       "    }\n",
       "\n",
       "    .dataframe tbody tr th {\n",
       "        vertical-align: top;\n",
       "    }\n",
       "\n",
       "    .dataframe thead th {\n",
       "        text-align: right;\n",
       "    }\n",
       "</style>\n",
       "<table border=\"1\" class=\"dataframe\">\n",
       "  <thead>\n",
       "    <tr style=\"text-align: right;\">\n",
       "      <th></th>\n",
       "      <th>Date</th>\n",
       "      <th>Product</th>\n",
       "    </tr>\n",
       "  </thead>\n",
       "  <tbody>\n",
       "    <tr>\n",
       "      <th>0</th>\n",
       "      <td>2022-01-21 06:27:00</td>\n",
       "      <td>[Ketchup, Shaving Cream, Light Bulbs]</td>\n",
       "    </tr>\n",
       "    <tr>\n",
       "      <th>1</th>\n",
       "      <td>2023-03-01 13:01:00</td>\n",
       "      <td>[Ice Cream, Milk, Olive Oil, Bread, Potatoes]</td>\n",
       "    </tr>\n",
       "    <tr>\n",
       "      <th>2</th>\n",
       "      <td>2024-03-21 15:37:00</td>\n",
       "      <td>[Spinach]</td>\n",
       "    </tr>\n",
       "    <tr>\n",
       "      <th>3</th>\n",
       "      <td>2020-10-31 09:59:00</td>\n",
       "      <td>[Tissues, Mustard]</td>\n",
       "    </tr>\n",
       "    <tr>\n",
       "      <th>4</th>\n",
       "      <td>2020-12-10 00:59:00</td>\n",
       "      <td>[Dish Soap]</td>\n",
       "    </tr>\n",
       "  </tbody>\n",
       "</table>\n",
       "</div>"
      ],
      "text/plain": [
       "                 Date                                        Product\n",
       "0 2022-01-21 06:27:00          [Ketchup, Shaving Cream, Light Bulbs]\n",
       "1 2023-03-01 13:01:00  [Ice Cream, Milk, Olive Oil, Bread, Potatoes]\n",
       "2 2024-03-21 15:37:00                                      [Spinach]\n",
       "3 2020-10-31 09:59:00                             [Tissues, Mustard]\n",
       "4 2020-12-10 00:59:00                                    [Dish Soap]"
      ]
     },
     "execution_count": 8,
     "metadata": {},
     "output_type": "execute_result"
    }
   ],
   "source": [
    "retail_data[['Date', 'Product']].head()"
   ]
  },
  {
   "cell_type": "code",
   "execution_count": null,
   "id": "6c3f58ef-d6a6-4f45-8b35-ee42e3fcfb82",
   "metadata": {},
   "outputs": [],
   "source": [
    "# Making the new cleaned data"
   ]
  },
  {
   "cell_type": "code",
   "execution_count": 23,
   "id": "44a8657b-728c-4116-be85-14e75805559c",
   "metadata": {},
   "outputs": [],
   "source": [
    "retail_data.to_csv('retail_transactions_Cleaned.csv', index=False)"
   ]
  },
  {
   "cell_type": "code",
   "execution_count": 24,
   "id": "d4ee105c-807a-40bc-9e21-d50df251b881",
   "metadata": {},
   "outputs": [],
   "source": [
    "retail_data.to_excel('retail_transactions_Cleaned.xlsx', index=False)"
   ]
  },
  {
   "cell_type": "code",
   "execution_count": null,
   "id": "0c4e299a-9a0a-4c27-874d-413931340caf",
   "metadata": {},
   "outputs": [],
   "source": [
    "# Importing necessary libraries"
   ]
  },
  {
   "cell_type": "code",
   "execution_count": 12,
   "id": "05332120-95c7-4ee5-a78f-ba0e9f137af8",
   "metadata": {},
   "outputs": [],
   "source": [
    "import matplotlib.pyplot as plt"
   ]
  },
  {
   "cell_type": "code",
   "execution_count": 13,
   "id": "89259881-0995-43b7-8d1b-ad70e7e20a51",
   "metadata": {},
   "outputs": [],
   "source": [
    "import seaborn as sns"
   ]
  },
  {
   "cell_type": "code",
   "execution_count": null,
   "id": "d63e9919-321a-4ac4-b92e-c1899173185d",
   "metadata": {},
   "outputs": [],
   "source": [
    "#  Create a 'Month-Year' column for monthly analysis"
   ]
  },
  {
   "cell_type": "code",
   "execution_count": 14,
   "id": "e9c49dae-7edf-45f0-8f76-e5567ca26ac7",
   "metadata": {},
   "outputs": [],
   "source": [
    "retail_data['Month-Year'] = retail_data['Date'].dt.to_period('M')"
   ]
  },
  {
   "cell_type": "code",
   "execution_count": null,
   "id": "dcba8cf4-a554-4c63-bf9e-aad623fa4f88",
   "metadata": {},
   "outputs": [],
   "source": [
    "# Group by 'Month-Year' to analyze transaction counts over time"
   ]
  },
  {
   "cell_type": "code",
   "execution_count": 15,
   "id": "153e354f-ac10-451f-b530-fdd3e5997935",
   "metadata": {},
   "outputs": [],
   "source": [
    "monthly_transactions = retail_data.groupby('Month-Year').size()"
   ]
  },
  {
   "cell_type": "code",
   "execution_count": null,
   "id": "63dfe7dc-e6e5-49ba-a5df-8d0d1f971173",
   "metadata": {},
   "outputs": [],
   "source": [
    "# Plot transaction trends over time"
   ]
  },
  {
   "cell_type": "code",
   "execution_count": 16,
   "id": "a3815c2d-6cf7-4306-9828-54751196767c",
   "metadata": {},
   "outputs": [
    {
     "data": {
      "image/png": "[encoded data removed]",
      "text/plain": [
       "<Figure size 1200x600 with 1 Axes>"
      ]
     },
     "metadata": {},
     "output_type": "display_data"
    }
   ],
   "source": [
    "plt.figure(figsize=(12, 6))\n",
    "monthly_transactions.plot(kind='line', marker='o', color='teal')\n",
    "plt.title('Monthly Transaction Trends', fontsize=16)\n",
    "plt.xlabel('Month-Year', fontsize=12)\n",
    "plt.ylabel('Number of Transactions', fontsize=12)\n",
    "plt.grid(axis='y', linestyle='--', alpha=0.7)\n",
    "plt.xticks(rotation=45)\n",
    "plt.tight_layout()\n",
    "plt.show()"
   ]
  },
  {
   "cell_type": "code",
   "execution_count": null,
   "id": "f5882375-93e4-4f31-87ba-3129601a930d",
   "metadata": {},
   "outputs": [],
   "source": []
  }
 ],
 "metadata": {
  "kernelspec": {
   "display_name": "Python 3 (ipykernel)",
   "language": "python",
   "name": "python3"
  },
  "language_info": {
   "codemirror_mode": {
    "name": "ipython",
    "version": 3
   },
   "file_extension": ".py",
   "mimetype": "text/x-python",
   "name": "python",
   "nbconvert_exporter": "python",
   "pygments_lexer": "ipython3",
   "version": "3.12.3"
  }
 },
 "nbformat": 4,
 "nbformat_minor": 5
}
